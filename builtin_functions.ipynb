{
 "cells": [
  {
   "cell_type": "code",
   "execution_count": 13,
   "id": "0e2d0d84-cf6b-4874-b4fd-007773c8a174",
   "metadata": {},
   "outputs": [
    {
     "name": "stdin",
     "output_type": "stream",
     "text": [
      "enter nums:  2 5 8 \n"
     ]
    },
    {
     "name": "stdout",
     "output_type": "stream",
     "text": [
      "product: 80\n"
     ]
    }
   ],
   "source": [
    "# Write a Python program with builtin function to multiply all the numbers in a list\n",
    "from functools import reduce\n",
    "\n",
    "nums = list(map(int, input(\"enter nums: \").split()))\n",
    "print(\"product:\", reduce(lambda x, y: x * y, nums))"
   ]
  },
  {
   "cell_type": "code",
   "execution_count": 19,
   "id": "d12f2a89-b3e6-46bd-a43c-5180c1df25ec",
   "metadata": {},
   "outputs": [
    {
     "name": "stdin",
     "output_type": "stream",
     "text": [
      "enter a string:  Hello World Yay\n"
     ]
    },
    {
     "name": "stdout",
     "output_type": "stream",
     "text": [
      "uppercase: 3 lowercase: 10\n"
     ]
    }
   ],
   "source": [
    "# Write a Python program with builtin function that accepts a string and calculate the number of upper case letters and lower case letters\n",
    "s = input(\"enter a string: \")\n",
    "upper = sum(1 for c in s if c.isupper())\n",
    "lower = sum(1 for c in s if c.islower())\n",
    "\n",
    "print(\"uppercase:\", upper, \"lowercase:\", lower)"
   ]
  },
  {
   "cell_type": "code",
   "execution_count": 23,
   "id": "e26311a9-9d5d-40bb-8db7-10dd38244294",
   "metadata": {},
   "outputs": [
    {
     "name": "stdin",
     "output_type": "stream",
     "text": [
      "enter a string:  sos\n"
     ]
    },
    {
     "name": "stdout",
     "output_type": "stream",
     "text": [
      "is palindrome: True\n"
     ]
    }
   ],
   "source": [
    "#Write a Python program with builtin function that checks whether a passed string is palindrome or not.\n",
    "s = input(\"enter a string: \")\n",
    "print(\"is palindrome:\", s == s[::-1])"
   ]
  },
  {
   "cell_type": "code",
   "execution_count": 31,
   "id": "2dc1a2b7-e187-45f4-acb0-16a08e6d4482",
   "metadata": {},
   "outputs": [
    {
     "name": "stdin",
     "output_type": "stream",
     "text": [
      "enter a number:  25100\n",
      "enter milliseconds:  2123\n"
     ]
    },
    {
     "name": "stdout",
     "output_type": "stream",
     "text": [
      "Square root of 25100 after 2123 miliseconds is 158.42979517754858\n"
     ]
    }
   ],
   "source": [
    "#Write a Python program that invoke square root function after specific milliseconds\n",
    "import time\n",
    "import math\n",
    "num = int(input(\"enter a number: \"))\n",
    "ms = int(input(\"enter milliseconds: \"))\n",
    "\n",
    "time.sleep(ms / 1000)\n",
    "print(f\"Square root of {num} after {ms} miliseconds is {math.sqrt(num)}\")"
   ]
  },
  {
   "cell_type": "code",
   "execution_count": 39,
   "id": "d1efd3e1-1c73-4057-916a-da71c6bb0b6f",
   "metadata": {},
   "outputs": [
    {
     "name": "stdin",
     "output_type": "stream",
     "text": [
      "enter nums:  1 2 5 0\n"
     ]
    },
    {
     "name": "stdout",
     "output_type": "stream",
     "text": [
      "all true: False\n"
     ]
    }
   ],
   "source": [
    "#Write a Python program with builtin function that returns True if all elements of the tuple are true\n",
    "t = tuple(map(int, input(\"enter nums: \").split()))\n",
    "print(\"all true:\", all(t))"
   ]
  }
 ],
 "metadata": {
  "kernelspec": {
   "display_name": "Python [conda env:base] *",
   "language": "python",
   "name": "conda-base-py"
  },
  "language_info": {
   "codemirror_mode": {
    "name": "ipython",
    "version": 3
   },
   "file_extension": ".py",
   "mimetype": "text/x-python",
   "name": "python",
   "nbconvert_exporter": "python",
   "pygments_lexer": "ipython3",
   "version": "3.12.7"
  }
 },
 "nbformat": 4,
 "nbformat_minor": 5
}
