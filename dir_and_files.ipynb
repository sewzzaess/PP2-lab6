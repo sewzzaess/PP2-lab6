{
 "cells": [
  {
   "cell_type": "code",
   "execution_count": 51,
   "id": "1451f82d-d632-4c2f-b6f8-e531d4e567a0",
   "metadata": {},
   "outputs": [
    {
     "name": "stdin",
     "output_type": "stream",
     "text": [
      "enter a path:  C:\\Users\\S\\Documents\n"
     ]
    },
    {
     "name": "stdout",
     "output_type": "stream",
     "text": [
      "directories:\n",
      "['Custom Office Templates', 'My Music', 'My Pictures', 'My Videos']\n",
      "files:\n",
      "['desktop.ini', 'LAB.pbix', 'Module1.bas', 'Module2.bas', 'Module3.bas', 'Module4.bas', 'Untitled-1.ai', 'UserForm1.frm', 'UserForm1.frx', 'WhatsApp Image 2024-10-14 at 22.07.52_7652a89b.jpg', 'Документ_(2)[1].docx']\n",
      "all content:\n",
      "['Custom Office Templates', 'desktop.ini', 'LAB.pbix', 'Module1.bas', 'Module2.bas', 'Module3.bas', 'Module4.bas', 'My Music', 'My Pictures', 'My Videos', 'Untitled-1.ai', 'UserForm1.frm', 'UserForm1.frx', 'WhatsApp Image 2024-10-14 at 22.07.52_7652a89b.jpg', 'Документ_(2)[1].docx']\n"
     ]
    }
   ],
   "source": [
    "# 1. Write a Python program to list only directories, files and all directories, files in a specified path.\n",
    "import os\n",
    "\n",
    "path = input(\"enter a path: \")\n",
    "\n",
    "print(\"directories:\")\n",
    "print([d for d in os.listdir(path) if os.path.isdir(os.path.join(path, d))])\n",
    "\n",
    "print(\"files:\")\n",
    "print([f for f in os.listdir(path) if os.path.isfile(os.path.join(path, f))])\n",
    "\n",
    "print(\"all content:\")\n",
    "print(os.listdir(path))"
   ]
  },
  {
   "cell_type": "code",
   "execution_count": 53,
   "id": "d30e3d3a-5fe3-4b9f-98af-251053de0d21",
   "metadata": {},
   "outputs": [
    {
     "name": "stdin",
     "output_type": "stream",
     "text": [
      "enter a path:  C:\\Users\\S\\Documents\n"
     ]
    },
    {
     "name": "stdout",
     "output_type": "stream",
     "text": [
      "exists: True\n",
      "readable: True\n",
      "writable: True\n",
      "executable: True\n"
     ]
    }
   ],
   "source": [
    "# Write a Python program to check for access to a specified path. Test the existence, readability, writability and executability of the specified path\n",
    "import os\n",
    "\n",
    "path = input(\"enter a path: \")\n",
    "\n",
    "print(\"exists:\", os.access(path, os.F_OK))\n",
    "print(\"readable:\", os.access(path, os.R_OK))\n",
    "print(\"writable:\", os.access(path, os.W_OK))\n",
    "print(\"executable:\", os.access(path, os.X_OK))"
   ]
  },
  {
   "cell_type": "code",
   "execution_count": 61,
   "id": "64f63105-3f44-40a8-a407-9ff970938387",
   "metadata": {},
   "outputs": [
    {
     "name": "stdin",
     "output_type": "stream",
     "text": [
      "enter a path:  C:\\Users\\S\\Documents\\\n"
     ]
    },
    {
     "name": "stdout",
     "output_type": "stream",
     "text": [
      "filename: \n",
      "directory: C:\\Users\\S\\Documents\n"
     ]
    }
   ],
   "source": [
    "# Write a Python program to test whether a given path exists or not. If the path exist find the filename and directory portion of the given path.\n",
    "import os\n",
    "\n",
    "path = input(\"enter a path: \")\n",
    "\n",
    "if os.path.exists(path):\n",
    "    print(\"filename:\", os.path.basename(path))\n",
    "    print(\"directory:\", os.path.dirname(path))\n",
    "else:\n",
    "    print(\"path does not exist\")"
   ]
  },
  {
   "cell_type": "code",
   "execution_count": 67,
   "id": "d9fe2db1-ce0c-4ffb-9b4d-d2768fb451c9",
   "metadata": {},
   "outputs": [
    {
     "name": "stdin",
     "output_type": "stream",
     "text": [
      "enter file path:  C:\\Users\\S\\Documents\\test.txt\n"
     ]
    },
    {
     "name": "stdout",
     "output_type": "stream",
     "text": [
      "list written to file\n"
     ]
    }
   ],
   "source": [
    "# Write a Python program to write a list to a file.\n",
    "file_path = input(\"enter file path: \")\n",
    "data = [\"apple\\n\", \"banana\\n\", \"cherry\\n\"]\n",
    "\n",
    "with open(file_path, \"w\") as f:\n",
    "    f.writelines(data)\n",
    "\n",
    "print(\"list written to file\")"
   ]
  },
  {
   "cell_type": "code",
   "execution_count": 71,
   "id": "a1628585-43d2-451c-849f-1772f8a4a2ad",
   "metadata": {},
   "outputs": [
    {
     "name": "stdin",
     "output_type": "stream",
     "text": [
      "enter source file path:  C:\\Users\\S\\Documents\\test.txt\n",
      "enter destination file path:  C:\\Users\\S\\Documents\\test2.txt\n"
     ]
    },
    {
     "name": "stdout",
     "output_type": "stream",
     "text": [
      "file copied\n"
     ]
    }
   ],
   "source": [
    "# Write a Python program to copy the contents of a file to another file\n",
    "source = input(\"enter source file path: \")\n",
    "destination = input(\"enter destination file path: \")\n",
    "\n",
    "with open(source, \"r\") as src, open(destination, \"w\") as dest:\n",
    "    dest.write(src.read())\n",
    "\n",
    "print(\"file copied\")"
   ]
  },
  {
   "cell_type": "code",
   "execution_count": 73,
   "id": "426115c7-52e0-467d-a19b-2f6aafe5db1b",
   "metadata": {},
   "outputs": [
    {
     "name": "stdin",
     "output_type": "stream",
     "text": [
      "enter file path:  C:\\Users\\S\\Documents\\test2.txt\n"
     ]
    },
    {
     "name": "stdout",
     "output_type": "stream",
     "text": [
      "file deleted\n"
     ]
    }
   ],
   "source": [
    "# Write a Python program to delete file by specified path. Before deleting check for access and whether a given path exists or not.\n",
    "import os\n",
    "\n",
    "file_path = input(\"enter file path: \")\n",
    "\n",
    "if os.path.exists(file_path) and os.access(file_path, os.W_OK):\n",
    "    os.remove(file_path)\n",
    "    print(\"file deleted\")\n",
    "else:\n",
    "    print(\"file does not exist or cannot be deleted\")\n"
   ]
  }
 ],
 "metadata": {
  "kernelspec": {
   "display_name": "Python [conda env:base] *",
   "language": "python",
   "name": "conda-base-py"
  },
  "language_info": {
   "codemirror_mode": {
    "name": "ipython",
    "version": 3
   },
   "file_extension": ".py",
   "mimetype": "text/x-python",
   "name": "python",
   "nbconvert_exporter": "python",
   "pygments_lexer": "ipython3",
   "version": "3.12.7"
  }
 },
 "nbformat": 4,
 "nbformat_minor": 5
}
